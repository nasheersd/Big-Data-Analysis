{
  "nbformat": 4,
  "nbformat_minor": 0,
  "metadata": {
    "colab": {
      "provenance": []
    },
    "kernelspec": {
      "name": "python3",
      "display_name": "Python 3"
    },
    "language_info": {
      "name": "python"
    }
  },
  "cells": [
    {
      "cell_type": "code",
      "execution_count": 1,
      "metadata": {
        "id": "yOIzmma6Yg5z"
      },
      "outputs": [],
      "source": [
        "from pyspark.sql import SparkSession"
      ]
    },
    {
      "cell_type": "code",
      "source": [
        "spark = SparkSession.builder.appName('Big Data Analysis').getOrCreate()"
      ],
      "metadata": {
        "id": "OAmidpjNYqNe"
      },
      "execution_count": 2,
      "outputs": []
    },
    {
      "cell_type": "code",
      "source": [
        "spark"
      ],
      "metadata": {
        "colab": {
          "base_uri": "https://localhost:8080/",
          "height": 219
        },
        "id": "NWS9-S-vYuVp",
        "outputId": "44fa87a9-8a9b-4392-fd43-170506d946c4"
      },
      "execution_count": 3,
      "outputs": [
        {
          "output_type": "execute_result",
          "data": {
            "text/plain": [
              "<pyspark.sql.session.SparkSession at 0x7ff5c6a58c50>"
            ],
            "text/html": [
              "\n",
              "            <div>\n",
              "                <p><b>SparkSession - in-memory</b></p>\n",
              "                \n",
              "        <div>\n",
              "            <p><b>SparkContext</b></p>\n",
              "\n",
              "            <p><a href=\"http://bd38f0e4dad4:4040\">Spark UI</a></p>\n",
              "\n",
              "            <dl>\n",
              "              <dt>Version</dt>\n",
              "                <dd><code>v3.5.1</code></dd>\n",
              "              <dt>Master</dt>\n",
              "                <dd><code>local[*]</code></dd>\n",
              "              <dt>AppName</dt>\n",
              "                <dd><code>Big Data Analysis</code></dd>\n",
              "            </dl>\n",
              "        </div>\n",
              "        \n",
              "            </div>\n",
              "        "
            ]
          },
          "metadata": {},
          "execution_count": 3
        }
      ]
    },
    {
      "cell_type": "code",
      "source": [
        "df = spark.read.csv('/content/Car_Purchasing_Data.csv',header=True,inferSchema=True)"
      ],
      "metadata": {
        "id": "L0R3cbKWY4qO"
      },
      "execution_count": 13,
      "outputs": []
    },
    {
      "cell_type": "markdown",
      "source": [
        "Display Top 3 Rows in from the dataset"
      ],
      "metadata": {
        "id": "X31jbQoZaPmt"
      }
    },
    {
      "cell_type": "code",
      "source": [
        "df.show(3)"
      ],
      "metadata": {
        "colab": {
          "base_uri": "https://localhost:8080/",
          "height": 0
        },
        "id": "j-KHAQdqZwjY",
        "outputId": "d99c9229-3f97-4c2c-bc03-1a980735d2be"
      },
      "execution_count": 14,
      "outputs": [
        {
          "output_type": "stream",
          "name": "stdout",
          "text": [
            "+---------------+--------------------+-------+------+---+-------------+----------------+-----------+-------------------+\n",
            "|  Customer Name|     Customer e-mail|Country|Gender|Age|Annual Salary|Credit Card Debt|  Net Worth|Car Purchase Amount|\n",
            "+---------------+--------------------+-------+------+---+-------------+----------------+-----------+-------------------+\n",
            "|  Martina Avila|cubilia.Curae.Pha...|    USA|     0| 42|  62812.09301|     11609.38091|238961.2505|        35321.45877|\n",
            "|  Harlan Barnes| eu.dolor@diam.co.uk|    USA|     0| 41|  66646.89292|     9572.957136|530973.9078|        45115.52566|\n",
            "|Naomi Rodriquez|vulputate.mauris....|    USA|     1| 43|  53798.55112|     11160.35506|638467.1773|        42925.70921|\n",
            "+---------------+--------------------+-------+------+---+-------------+----------------+-----------+-------------------+\n",
            "only showing top 3 rows\n",
            "\n"
          ]
        }
      ]
    },
    {
      "cell_type": "markdown",
      "source": [
        "Display Datatype of each column"
      ],
      "metadata": {
        "id": "NVIhGa0wajdE"
      }
    },
    {
      "cell_type": "code",
      "source": [
        "df.printSchema()"
      ],
      "metadata": {
        "colab": {
          "base_uri": "https://localhost:8080/",
          "height": 0
        },
        "id": "i7_pwXITacWp",
        "outputId": "15a5b85c-5611-4cfd-fdd5-02ab262b930f"
      },
      "execution_count": 15,
      "outputs": [
        {
          "output_type": "stream",
          "name": "stdout",
          "text": [
            "root\n",
            " |-- Customer Name: string (nullable = true)\n",
            " |-- Customer e-mail: string (nullable = true)\n",
            " |-- Country: string (nullable = true)\n",
            " |-- Gender: integer (nullable = true)\n",
            " |-- Age: integer (nullable = true)\n",
            " |-- Annual Salary: double (nullable = true)\n",
            " |-- Credit Card Debt: double (nullable = true)\n",
            " |-- Net Worth: double (nullable = true)\n",
            " |-- Car Purchase Amount: double (nullable = true)\n",
            "\n"
          ]
        }
      ]
    },
    {
      "cell_type": "markdown",
      "source": [
        "Display Column Names"
      ],
      "metadata": {
        "id": "WXqaCZ2EbcDG"
      }
    },
    {
      "cell_type": "code",
      "source": [
        "df.columns"
      ],
      "metadata": {
        "colab": {
          "base_uri": "https://localhost:8080/",
          "height": 0
        },
        "id": "HPZHWXg9bXcv",
        "outputId": "8b987ce8-1d86-40ed-8128-17a4f392411c"
      },
      "execution_count": 16,
      "outputs": [
        {
          "output_type": "execute_result",
          "data": {
            "text/plain": [
              "['Customer Name',\n",
              " 'Customer e-mail',\n",
              " 'Country',\n",
              " 'Gender',\n",
              " 'Age',\n",
              " 'Annual Salary',\n",
              " 'Credit Card Debt',\n",
              " 'Net Worth',\n",
              " 'Car Purchase Amount']"
            ]
          },
          "metadata": {},
          "execution_count": 16
        }
      ]
    },
    {
      "cell_type": "markdown",
      "source": [
        "count No Of Rows & Columns Of The Dataset"
      ],
      "metadata": {
        "id": "0_jY4gpObn3I"
      }
    },
    {
      "cell_type": "code",
      "source": [
        "df.count()"
      ],
      "metadata": {
        "colab": {
          "base_uri": "https://localhost:8080/",
          "height": 0
        },
        "id": "YbS14F-5a71L",
        "outputId": "faa53e63-4845-43de-82da-5d573f99fdd5"
      },
      "execution_count": 17,
      "outputs": [
        {
          "output_type": "execute_result",
          "data": {
            "text/plain": [
              "500"
            ]
          },
          "metadata": {},
          "execution_count": 17
        }
      ]
    },
    {
      "cell_type": "code",
      "source": [
        "len(df.columns)"
      ],
      "metadata": {
        "colab": {
          "base_uri": "https://localhost:8080/",
          "height": 0
        },
        "id": "iJBCszY8bw-B",
        "outputId": "4d8105a3-8129-46c2-f6ea-aa89d22a94ee"
      },
      "execution_count": 18,
      "outputs": [
        {
          "output_type": "execute_result",
          "data": {
            "text/plain": [
              "9"
            ]
          },
          "metadata": {},
          "execution_count": 18
        }
      ]
    },
    {
      "cell_type": "markdown",
      "source": [
        "Get Overall Statistics About The Dataset"
      ],
      "metadata": {
        "id": "Hr3i12iJb6-P"
      }
    },
    {
      "cell_type": "code",
      "source": [
        "df.describe().show()"
      ],
      "metadata": {
        "colab": {
          "base_uri": "https://localhost:8080/",
          "height": 0
        },
        "id": "FcjTz6M8b5EC",
        "outputId": "54db34af-2c14-47b8-f1e6-a81de32b8974"
      },
      "execution_count": 20,
      "outputs": [
        {
          "output_type": "stream",
          "name": "stdout",
          "text": [
            "+-------+-------------+--------------------+-------+------------------+-----------------+------------------+------------------+------------------+-------------------+\n",
            "|summary|Customer Name|     Customer e-mail|Country|            Gender|              Age|     Annual Salary|  Credit Card Debt|         Net Worth|Car Purchase Amount|\n",
            "+-------+-------------+--------------------+-------+------------------+-----------------+------------------+------------------+------------------+-------------------+\n",
            "|  count|          500|                 500|    500|               500|              500|               500|               500|               500|                500|\n",
            "|   mean|         NULL|                NULL|   NULL|             0.506|           46.224|62127.239607559975| 9607.645048629205|431475.71362506005|  44209.79921842003|\n",
            "| stddev|         NULL|                NULL|   NULL|0.5004647139007097|7.990338855772024|11703.378227774127|3489.1879728381996|173536.75634000325| 10773.178744235342|\n",
            "|    min| Abel Stanton|Aenean.gravida@mi...|    USA|                 0|               20|           20000.0|             100.0|           20000.0|             9000.0|\n",
            "|    max|     Zephania|vulputate.mauris....|    USA|                 1|               70|          100000.0|           20000.0|         1000000.0|            80000.0|\n",
            "+-------+-------------+--------------------+-------+------------------+-----------------+------------------+------------------+------------------+-------------------+\n",
            "\n"
          ]
        }
      ]
    },
    {
      "cell_type": "markdown",
      "source": [
        "Find Unique Values Available In the Gender Column"
      ],
      "metadata": {
        "id": "5qmlXDcFcMT1"
      }
    },
    {
      "cell_type": "code",
      "source": [
        "df.toPandas()['Gender'].unique()"
      ],
      "metadata": {
        "colab": {
          "base_uri": "https://localhost:8080/",
          "height": 0
        },
        "id": "Oc3cZXP2cF0R",
        "outputId": "4aed76fc-d8e2-4cce-fa69-f3bbb6154a43"
      },
      "execution_count": 23,
      "outputs": [
        {
          "output_type": "execute_result",
          "data": {
            "text/plain": [
              "array([0, 1], dtype=int32)"
            ]
          },
          "metadata": {},
          "execution_count": 23
        }
      ]
    },
    {
      "cell_type": "markdown",
      "source": [
        "Find Total No Of Unique Values Available In the Gender Column"
      ],
      "metadata": {
        "id": "jLyITyracvug"
      }
    },
    {
      "cell_type": "code",
      "source": [
        "len(df.toPandas()['Gender'].unique())"
      ],
      "metadata": {
        "colab": {
          "base_uri": "https://localhost:8080/",
          "height": 0
        },
        "id": "oIaL_79ycXIK",
        "outputId": "3b14c3b0-2bf5-4a74-cba1-3ca3427753ae"
      },
      "execution_count": 24,
      "outputs": [
        {
          "output_type": "execute_result",
          "data": {
            "text/plain": [
              "2"
            ]
          },
          "metadata": {},
          "execution_count": 24
        }
      ]
    },
    {
      "cell_type": "markdown",
      "source": [
        "How Select Single Column ?"
      ],
      "metadata": {
        "id": "9f_v7K9rdCDh"
      }
    },
    {
      "cell_type": "code",
      "source": [
        "df.show()"
      ],
      "metadata": {
        "colab": {
          "base_uri": "https://localhost:8080/",
          "height": 0
        },
        "id": "4uzvwe3idBAR",
        "outputId": "f5ab3483-8336-4274-f9fc-47c38716e5ee"
      },
      "execution_count": 25,
      "outputs": [
        {
          "output_type": "stream",
          "name": "stdout",
          "text": [
            "+---------------+--------------------+-------+------+---+-------------+----------------+-----------+-------------------+\n",
            "|  Customer Name|     Customer e-mail|Country|Gender|Age|Annual Salary|Credit Card Debt|  Net Worth|Car Purchase Amount|\n",
            "+---------------+--------------------+-------+------+---+-------------+----------------+-----------+-------------------+\n",
            "|  Martina Avila|cubilia.Curae.Pha...|    USA|     0| 42|  62812.09301|     11609.38091|238961.2505|        35321.45877|\n",
            "|  Harlan Barnes| eu.dolor@diam.co.uk|    USA|     0| 41|  66646.89292|     9572.957136|530973.9078|        45115.52566|\n",
            "|Naomi Rodriquez|vulputate.mauris....|    USA|     1| 43|  53798.55112|     11160.35506|638467.1773|        42925.70921|\n",
            "|Jade Cunningham|malesuada@digniss...|    USA|     1| 58|  79370.03798|     14426.16485|548599.0524|        67422.36313|\n",
            "|   Cedric Leach|felis.ullamcorper...|    USA|     1| 57|   59729.1513|     5358.712177|560304.0671|        55915.46248|\n",
            "|   Carla Hester|  mi@Aliquamerat.edu|    USA|     1| 57|  68499.85162|     14179.47244|428485.3604|        56611.99784|\n",
            "| Griffin Rivera|   vehicula@at.co.uk|    USA|     1| 47|    39814.522|     5958.460188|326373.1812|        28925.70549|\n",
            "|     Orli Casey|nunc.est.mollis@S...|    USA|     1| 50|  51752.23445|     10985.69656|629312.4041|        47434.98265|\n",
            "|   Marny Obrien|Phasellus@sedseme...|    USA|     0| 47|   58139.2591|     3440.823799|630059.0274|         48013.6141|\n",
            "|  Rhonda Chavez|     nec@nuncest.com|    USA|     1| 43|  53457.10132|     12884.07868|476643.3544|        38189.50601|\n",
            "|    Jerome Rowe|ipsum.cursus@dui.org|    USA|     1| 50|  73348.70745|     8270.707359|612738.6171|        59045.51309|\n",
            "|   Akeem Gibson|turpis.egestas.Fu...|    USA|     1| 53|  55421.65733|     10014.96929|293862.5123|        42288.81046|\n",
            "|     Quin Smith|     nulla@ipsum.edu|    USA|     0| 44|   37336.3383|     10218.32092|430907.1673|         28700.0334|\n",
            "|     Tatum Moon|Cras.sed.leo@Sedd...|    USA|     0| 48|  68304.47298|     9466.995128|420322.0702|        49258.87571|\n",
            "|  Sharon Sharpe|eget.metus@aaliqu...|    USA|     0| 55|  72776.00382|     10597.63814|146344.8965|        49510.03356|\n",
            "|Thomas Williams|aliquet.molestie@...|    USA|     1| 53|  64662.30061|     11326.03434|481433.4324|        53017.26723|\n",
            "|  Blaine Bender|ultrices.posuere....|    USA|     0| 45|  63259.87837|     11495.54999|370356.2223|        41814.72067|\n",
            "|Stephen Lindsey|erat.eget.ipsum@t...|    USA|     1| 48|  52682.06401|     12514.52029|549443.5886|        43901.71244|\n",
            "|    Sloane Mann|  at.augue@augue.net|    USA|     1| 52|  54503.14423|     7377.820914|431098.9998|        44633.99241|\n",
            "|    Athena Wolf|volutpat.Nulla.fa...|    USA|     0| 59|  55368.23716|     13272.94647|566022.1306|        54827.52403|\n",
            "+---------------+--------------------+-------+------+---+-------------+----------------+-----------+-------------------+\n",
            "only showing top 20 rows\n",
            "\n"
          ]
        }
      ]
    },
    {
      "cell_type": "code",
      "source": [
        "df.select('Customer Name').show()"
      ],
      "metadata": {
        "colab": {
          "base_uri": "https://localhost:8080/",
          "height": 0
        },
        "id": "EHcxVMpudJxn",
        "outputId": "0b761c5a-2c9e-4fc5-ea15-7869d3aa3fe3"
      },
      "execution_count": 27,
      "outputs": [
        {
          "output_type": "stream",
          "name": "stdout",
          "text": [
            "+---------------+\n",
            "|  Customer Name|\n",
            "+---------------+\n",
            "|  Martina Avila|\n",
            "|  Harlan Barnes|\n",
            "|Naomi Rodriquez|\n",
            "|Jade Cunningham|\n",
            "|   Cedric Leach|\n",
            "|   Carla Hester|\n",
            "| Griffin Rivera|\n",
            "|     Orli Casey|\n",
            "|   Marny Obrien|\n",
            "|  Rhonda Chavez|\n",
            "|    Jerome Rowe|\n",
            "|   Akeem Gibson|\n",
            "|     Quin Smith|\n",
            "|     Tatum Moon|\n",
            "|  Sharon Sharpe|\n",
            "|Thomas Williams|\n",
            "|  Blaine Bender|\n",
            "|Stephen Lindsey|\n",
            "|    Sloane Mann|\n",
            "|    Athena Wolf|\n",
            "+---------------+\n",
            "only showing top 20 rows\n",
            "\n"
          ]
        }
      ]
    },
    {
      "cell_type": "markdown",
      "source": [
        "How To Select Multiple Column ?"
      ],
      "metadata": {
        "id": "tpATKLxidcRi"
      }
    },
    {
      "cell_type": "code",
      "source": [
        "df.select(['Customer Name','Gender']).show()"
      ],
      "metadata": {
        "colab": {
          "base_uri": "https://localhost:8080/",
          "height": 0
        },
        "id": "R1MUWImRdRSZ",
        "outputId": "8d691a8f-360a-4a5f-d20e-257e50e45965"
      },
      "execution_count": 28,
      "outputs": [
        {
          "output_type": "stream",
          "name": "stdout",
          "text": [
            "+---------------+------+\n",
            "|  Customer Name|Gender|\n",
            "+---------------+------+\n",
            "|  Martina Avila|     0|\n",
            "|  Harlan Barnes|     0|\n",
            "|Naomi Rodriquez|     1|\n",
            "|Jade Cunningham|     1|\n",
            "|   Cedric Leach|     1|\n",
            "|   Carla Hester|     1|\n",
            "| Griffin Rivera|     1|\n",
            "|     Orli Casey|     1|\n",
            "|   Marny Obrien|     0|\n",
            "|  Rhonda Chavez|     1|\n",
            "|    Jerome Rowe|     1|\n",
            "|   Akeem Gibson|     1|\n",
            "|     Quin Smith|     0|\n",
            "|     Tatum Moon|     0|\n",
            "|  Sharon Sharpe|     0|\n",
            "|Thomas Williams|     1|\n",
            "|  Blaine Bender|     0|\n",
            "|Stephen Lindsey|     1|\n",
            "|    Sloane Mann|     1|\n",
            "|    Athena Wolf|     0|\n",
            "+---------------+------+\n",
            "only showing top 20 rows\n",
            "\n"
          ]
        }
      ]
    },
    {
      "cell_type": "markdown",
      "source": [
        "Creating  A New Column With Marks + 1 And Also Updating existing DataFrame"
      ],
      "metadata": {
        "id": "c_7WTtuQdzQ7"
      }
    },
    {
      "cell_type": "code",
      "source": [
        "df = df.withColumn('New_Annual Salary',df['Annual Salary']+1000)"
      ],
      "metadata": {
        "id": "NJSwD-5TduvY"
      },
      "execution_count": 35,
      "outputs": []
    },
    {
      "cell_type": "code",
      "source": [
        "df.show()"
      ],
      "metadata": {
        "colab": {
          "base_uri": "https://localhost:8080/",
          "height": 0
        },
        "id": "OTB82iYUea58",
        "outputId": "a49ff4f9-608c-44db-d72f-f472afd8ca0e"
      },
      "execution_count": 36,
      "outputs": [
        {
          "output_type": "stream",
          "name": "stdout",
          "text": [
            "+---------------+--------------------+-------+------+---+-------------+----------------+-----------+-------------------+-----------------+\n",
            "|  Customer Name|     Customer e-mail|Country|Gender|Age|Annual Salary|Credit Card Debt|  Net Worth|Car Purchase Amount|New_Annual Salary|\n",
            "+---------------+--------------------+-------+------+---+-------------+----------------+-----------+-------------------+-----------------+\n",
            "|  Martina Avila|cubilia.Curae.Pha...|    USA|     0| 42|  62812.09301|     11609.38091|238961.2505|        35321.45877|      63812.09301|\n",
            "|  Harlan Barnes| eu.dolor@diam.co.uk|    USA|     0| 41|  66646.89292|     9572.957136|530973.9078|        45115.52566|      67646.89292|\n",
            "|Naomi Rodriquez|vulputate.mauris....|    USA|     1| 43|  53798.55112|     11160.35506|638467.1773|        42925.70921|      54798.55112|\n",
            "|Jade Cunningham|malesuada@digniss...|    USA|     1| 58|  79370.03798|     14426.16485|548599.0524|        67422.36313|      80370.03798|\n",
            "|   Cedric Leach|felis.ullamcorper...|    USA|     1| 57|   59729.1513|     5358.712177|560304.0671|        55915.46248|       60729.1513|\n",
            "|   Carla Hester|  mi@Aliquamerat.edu|    USA|     1| 57|  68499.85162|     14179.47244|428485.3604|        56611.99784|      69499.85162|\n",
            "| Griffin Rivera|   vehicula@at.co.uk|    USA|     1| 47|    39814.522|     5958.460188|326373.1812|        28925.70549|        40814.522|\n",
            "|     Orli Casey|nunc.est.mollis@S...|    USA|     1| 50|  51752.23445|     10985.69656|629312.4041|        47434.98265|      52752.23445|\n",
            "|   Marny Obrien|Phasellus@sedseme...|    USA|     0| 47|   58139.2591|     3440.823799|630059.0274|         48013.6141|       59139.2591|\n",
            "|  Rhonda Chavez|     nec@nuncest.com|    USA|     1| 43|  53457.10132|     12884.07868|476643.3544|        38189.50601|      54457.10132|\n",
            "|    Jerome Rowe|ipsum.cursus@dui.org|    USA|     1| 50|  73348.70745|     8270.707359|612738.6171|        59045.51309|      74348.70745|\n",
            "|   Akeem Gibson|turpis.egestas.Fu...|    USA|     1| 53|  55421.65733|     10014.96929|293862.5123|        42288.81046|      56421.65733|\n",
            "|     Quin Smith|     nulla@ipsum.edu|    USA|     0| 44|   37336.3383|     10218.32092|430907.1673|         28700.0334|       38336.3383|\n",
            "|     Tatum Moon|Cras.sed.leo@Sedd...|    USA|     0| 48|  68304.47298|     9466.995128|420322.0702|        49258.87571|      69304.47298|\n",
            "|  Sharon Sharpe|eget.metus@aaliqu...|    USA|     0| 55|  72776.00382|     10597.63814|146344.8965|        49510.03356|      73776.00382|\n",
            "|Thomas Williams|aliquet.molestie@...|    USA|     1| 53|  64662.30061|     11326.03434|481433.4324|        53017.26723|      65662.30061|\n",
            "|  Blaine Bender|ultrices.posuere....|    USA|     0| 45|  63259.87837|     11495.54999|370356.2223|        41814.72067|      64259.87837|\n",
            "|Stephen Lindsey|erat.eget.ipsum@t...|    USA|     1| 48|  52682.06401|     12514.52029|549443.5886|        43901.71244|      53682.06401|\n",
            "|    Sloane Mann|  at.augue@augue.net|    USA|     1| 52|  54503.14423|     7377.820914|431098.9998|        44633.99241|      55503.14423|\n",
            "|    Athena Wolf|volutpat.Nulla.fa...|    USA|     0| 59|  55368.23716|     13272.94647|566022.1306|        54827.52403|      56368.23716|\n",
            "+---------------+--------------------+-------+------+---+-------------+----------------+-----------+-------------------+-----------------+\n",
            "only showing top 20 rows\n",
            "\n"
          ]
        }
      ]
    },
    {
      "cell_type": "markdown",
      "source": [
        "Rename Customer_Name Column And Give New Name \"Name\""
      ],
      "metadata": {
        "id": "i3rRXLgrfj2G"
      }
    },
    {
      "cell_type": "code",
      "source": [
        "df.columns"
      ],
      "metadata": {
        "colab": {
          "base_uri": "https://localhost:8080/",
          "height": 0
        },
        "id": "WHzKShsFfIbg",
        "outputId": "ed18d728-5402-46f3-bed8-cbcf621b1e52"
      },
      "execution_count": 37,
      "outputs": [
        {
          "output_type": "execute_result",
          "data": {
            "text/plain": [
              "['Customer Name',\n",
              " 'Customer e-mail',\n",
              " 'Country',\n",
              " 'Gender',\n",
              " 'Age',\n",
              " 'Annual Salary',\n",
              " 'Credit Card Debt',\n",
              " 'Net Worth',\n",
              " 'Car Purchase Amount',\n",
              " 'New_Annual Salary']"
            ]
          },
          "metadata": {},
          "execution_count": 37
        }
      ]
    },
    {
      "cell_type": "code",
      "source": [
        "df = df.withColumnRenamed('Customer Name','Name')"
      ],
      "metadata": {
        "id": "uYnNWi8mf_YT"
      },
      "execution_count": 39,
      "outputs": []
    },
    {
      "cell_type": "code",
      "source": [
        "df.show()"
      ],
      "metadata": {
        "colab": {
          "base_uri": "https://localhost:8080/",
          "height": 0
        },
        "id": "7hkryEaRgTXf",
        "outputId": "db60ba54-6ac8-4c0c-c967-0da7b3a2fb7e"
      },
      "execution_count": 41,
      "outputs": [
        {
          "output_type": "stream",
          "name": "stdout",
          "text": [
            "+---------------+--------------------+-------+------+---+-------------+----------------+-----------+-------------------+-----------------+\n",
            "|           Name|     Customer e-mail|Country|Gender|Age|Annual Salary|Credit Card Debt|  Net Worth|Car Purchase Amount|New_Annual Salary|\n",
            "+---------------+--------------------+-------+------+---+-------------+----------------+-----------+-------------------+-----------------+\n",
            "|  Martina Avila|cubilia.Curae.Pha...|    USA|     0| 42|  62812.09301|     11609.38091|238961.2505|        35321.45877|      63812.09301|\n",
            "|  Harlan Barnes| eu.dolor@diam.co.uk|    USA|     0| 41|  66646.89292|     9572.957136|530973.9078|        45115.52566|      67646.89292|\n",
            "|Naomi Rodriquez|vulputate.mauris....|    USA|     1| 43|  53798.55112|     11160.35506|638467.1773|        42925.70921|      54798.55112|\n",
            "|Jade Cunningham|malesuada@digniss...|    USA|     1| 58|  79370.03798|     14426.16485|548599.0524|        67422.36313|      80370.03798|\n",
            "|   Cedric Leach|felis.ullamcorper...|    USA|     1| 57|   59729.1513|     5358.712177|560304.0671|        55915.46248|       60729.1513|\n",
            "|   Carla Hester|  mi@Aliquamerat.edu|    USA|     1| 57|  68499.85162|     14179.47244|428485.3604|        56611.99784|      69499.85162|\n",
            "| Griffin Rivera|   vehicula@at.co.uk|    USA|     1| 47|    39814.522|     5958.460188|326373.1812|        28925.70549|        40814.522|\n",
            "|     Orli Casey|nunc.est.mollis@S...|    USA|     1| 50|  51752.23445|     10985.69656|629312.4041|        47434.98265|      52752.23445|\n",
            "|   Marny Obrien|Phasellus@sedseme...|    USA|     0| 47|   58139.2591|     3440.823799|630059.0274|         48013.6141|       59139.2591|\n",
            "|  Rhonda Chavez|     nec@nuncest.com|    USA|     1| 43|  53457.10132|     12884.07868|476643.3544|        38189.50601|      54457.10132|\n",
            "|    Jerome Rowe|ipsum.cursus@dui.org|    USA|     1| 50|  73348.70745|     8270.707359|612738.6171|        59045.51309|      74348.70745|\n",
            "|   Akeem Gibson|turpis.egestas.Fu...|    USA|     1| 53|  55421.65733|     10014.96929|293862.5123|        42288.81046|      56421.65733|\n",
            "|     Quin Smith|     nulla@ipsum.edu|    USA|     0| 44|   37336.3383|     10218.32092|430907.1673|         28700.0334|       38336.3383|\n",
            "|     Tatum Moon|Cras.sed.leo@Sedd...|    USA|     0| 48|  68304.47298|     9466.995128|420322.0702|        49258.87571|      69304.47298|\n",
            "|  Sharon Sharpe|eget.metus@aaliqu...|    USA|     0| 55|  72776.00382|     10597.63814|146344.8965|        49510.03356|      73776.00382|\n",
            "|Thomas Williams|aliquet.molestie@...|    USA|     1| 53|  64662.30061|     11326.03434|481433.4324|        53017.26723|      65662.30061|\n",
            "|  Blaine Bender|ultrices.posuere....|    USA|     0| 45|  63259.87837|     11495.54999|370356.2223|        41814.72067|      64259.87837|\n",
            "|Stephen Lindsey|erat.eget.ipsum@t...|    USA|     1| 48|  52682.06401|     12514.52029|549443.5886|        43901.71244|      53682.06401|\n",
            "|    Sloane Mann|  at.augue@augue.net|    USA|     1| 52|  54503.14423|     7377.820914|431098.9998|        44633.99241|      55503.14423|\n",
            "|    Athena Wolf|volutpat.Nulla.fa...|    USA|     0| 59|  55368.23716|     13272.94647|566022.1306|        54827.52403|      56368.23716|\n",
            "+---------------+--------------------+-------+------+---+-------------+----------------+-----------+-------------------+-----------------+\n",
            "only showing top 20 rows\n",
            "\n"
          ]
        }
      ]
    },
    {
      "cell_type": "markdown",
      "source": [
        "Display Name Of The Customers Having Net Worth Greater Than 5 Lakhs"
      ],
      "metadata": {
        "id": "TmUs5r1bgr3z"
      }
    },
    {
      "cell_type": "code",
      "source": [
        "df.filter(df['Net Worth']>500000).select('Name').show()"
      ],
      "metadata": {
        "colab": {
          "base_uri": "https://localhost:8080/",
          "height": 0
        },
        "id": "iKaBk1bvgrG1",
        "outputId": "6c2c80f1-a2c7-421c-95bc-a3a4d6f18054"
      },
      "execution_count": 44,
      "outputs": [
        {
          "output_type": "stream",
          "name": "stdout",
          "text": [
            "+-------------------+\n",
            "|               Name|\n",
            "+-------------------+\n",
            "|      Harlan Barnes|\n",
            "|    Naomi Rodriquez|\n",
            "|    Jade Cunningham|\n",
            "|       Cedric Leach|\n",
            "|         Orli Casey|\n",
            "|       Marny Obrien|\n",
            "|        Jerome Rowe|\n",
            "|    Stephen Lindsey|\n",
            "|        Athena Wolf|\n",
            "|      Micah Wheeler|\n",
            "|        Castor Wood|\n",
            "|   Dahlia Cleveland|\n",
            "|       Coby Charles|\n",
            "|      Rachel Ashley|\n",
            "|        Quincy Bell|\n",
            "|       Quon Carroll|\n",
            "|      Leilani Gross|\n",
            "|Francesca Cervantes|\n",
            "|   Charlotte Waller|\n",
            "|         Rowan Kidd|\n",
            "+-------------------+\n",
            "only showing top 20 rows\n",
            "\n"
          ]
        }
      ]
    },
    {
      "cell_type": "markdown",
      "source": [
        "Display Name & Gender of the Customer Having Net Worth Greater Than 5 Lakhs"
      ],
      "metadata": {
        "id": "W-0ZG_EPheEx"
      }
    },
    {
      "cell_type": "code",
      "source": [
        "df.filter(df['Net Worth']>500000).select(['Name','Gender']).show()"
      ],
      "metadata": {
        "colab": {
          "base_uri": "https://localhost:8080/",
          "height": 0
        },
        "id": "rled22bzhMKL",
        "outputId": "9a48bce6-1365-4e68-e428-b73038b8ddd0"
      },
      "execution_count": 45,
      "outputs": [
        {
          "output_type": "stream",
          "name": "stdout",
          "text": [
            "+-------------------+------+\n",
            "|               Name|Gender|\n",
            "+-------------------+------+\n",
            "|      Harlan Barnes|     0|\n",
            "|    Naomi Rodriquez|     1|\n",
            "|    Jade Cunningham|     1|\n",
            "|       Cedric Leach|     1|\n",
            "|         Orli Casey|     1|\n",
            "|       Marny Obrien|     0|\n",
            "|        Jerome Rowe|     1|\n",
            "|    Stephen Lindsey|     1|\n",
            "|        Athena Wolf|     0|\n",
            "|      Micah Wheeler|     1|\n",
            "|        Castor Wood|     1|\n",
            "|   Dahlia Cleveland|     1|\n",
            "|       Coby Charles|     0|\n",
            "|      Rachel Ashley|     0|\n",
            "|        Quincy Bell|     0|\n",
            "|       Quon Carroll|     0|\n",
            "|      Leilani Gross|     0|\n",
            "|Francesca Cervantes|     1|\n",
            "|   Charlotte Waller|     1|\n",
            "|         Rowan Kidd|     1|\n",
            "+-------------------+------+\n",
            "only showing top 20 rows\n",
            "\n"
          ]
        }
      ]
    },
    {
      "cell_type": "markdown",
      "source": [
        "Display Name Of The Customers Of The Female Having Net Worth Of Greater Than 5 Lakhs"
      ],
      "metadata": {
        "id": "m90128ldialS"
      }
    },
    {
      "cell_type": "code",
      "source": [
        "df.filter((df['Net Worth']>500000) & (df['Gender']=='0')).select('Name').show()"
      ],
      "metadata": {
        "colab": {
          "base_uri": "https://localhost:8080/",
          "height": 0
        },
        "id": "MkWK1iHPiXtI",
        "outputId": "f46cf8aa-1e23-46ed-a804-93618bc73b5a"
      },
      "execution_count": 52,
      "outputs": [
        {
          "output_type": "stream",
          "name": "stdout",
          "text": [
            "+----------------+\n",
            "|            Name|\n",
            "+----------------+\n",
            "|   Harlan Barnes|\n",
            "|    Marny Obrien|\n",
            "|     Athena Wolf|\n",
            "|    Coby Charles|\n",
            "|   Rachel Ashley|\n",
            "|     Quincy Bell|\n",
            "|    Quon Carroll|\n",
            "|   Leilani Gross|\n",
            "|    Olga Serrano|\n",
            "|   Hedley Greene|\n",
            "|      Cleo Moore|\n",
            "|     Yen Santana|\n",
            "|Emerald Hamilton|\n",
            "|    Gage Marquez|\n",
            "|      Ralph Rich|\n",
            "|     Yasir Tyler|\n",
            "|   Kadeem Larsen|\n",
            "|  Todd Maldonado|\n",
            "|Solomon Atkinson|\n",
            "|     Dean Snider|\n",
            "+----------------+\n",
            "only showing top 20 rows\n",
            "\n"
          ]
        }
      ]
    },
    {
      "cell_type": "markdown",
      "source": [
        "Display Name Of The Customers Of The Male Having Net Worth Of Greater Than 5 Lakhs"
      ],
      "metadata": {
        "id": "iS6nlGe9jny2"
      }
    },
    {
      "cell_type": "code",
      "source": [
        "df.filter((df['Net Worth']>500000) & (df['Gender']=='1')).select('Name').show()"
      ],
      "metadata": {
        "colab": {
          "base_uri": "https://localhost:8080/",
          "height": 0
        },
        "id": "6U3g-dGMi9hz",
        "outputId": "2316165f-8a44-4417-fcc4-033fcd067c43"
      },
      "execution_count": 53,
      "outputs": [
        {
          "output_type": "stream",
          "name": "stdout",
          "text": [
            "+-------------------+\n",
            "|               Name|\n",
            "+-------------------+\n",
            "|    Naomi Rodriquez|\n",
            "|    Jade Cunningham|\n",
            "|       Cedric Leach|\n",
            "|         Orli Casey|\n",
            "|        Jerome Rowe|\n",
            "|    Stephen Lindsey|\n",
            "|      Micah Wheeler|\n",
            "|        Castor Wood|\n",
            "|   Dahlia Cleveland|\n",
            "|Francesca Cervantes|\n",
            "|   Charlotte Waller|\n",
            "|         Rowan Kidd|\n",
            "|         Lev Kramer|\n",
            "|      Nissim Acosta|\n",
            "|        Ila Farrell|\n",
            "|    Ferdinand Weber|\n",
            "|      Desirae Stone|\n",
            "|       Travis Burks|\n",
            "|         Wing Parks|\n",
            "|    Quamar Cummings|\n",
            "+-------------------+\n",
            "only showing top 20 rows\n",
            "\n"
          ]
        }
      ]
    },
    {
      "cell_type": "markdown",
      "source": [
        "Display Average Annual Salary Of Male & Female Customers"
      ],
      "metadata": {
        "id": "3Id0m5FLj3Ek"
      }
    },
    {
      "cell_type": "code",
      "source": [
        "df.groupby('Gender').mean().select(['Gender','avg(Annual Salary)']).show()"
      ],
      "metadata": {
        "colab": {
          "base_uri": "https://localhost:8080/",
          "height": 0
        },
        "id": "93MnN_P4jzSO",
        "outputId": "ecaca175-9669-46b7-a632-47d038d7a18c"
      },
      "execution_count": 57,
      "outputs": [
        {
          "output_type": "stream",
          "name": "stdout",
          "text": [
            "+------+------------------+\n",
            "|Gender|avg(Annual Salary)|\n",
            "+------+------------------+\n",
            "|     1| 61705.59332233203|\n",
            "|     0| 62559.12831267206|\n",
            "+------+------------------+\n",
            "\n"
          ]
        }
      ]
    },
    {
      "cell_type": "markdown",
      "source": [
        "Sort every row of the dataset into Descending Order"
      ],
      "metadata": {
        "id": "Vg977ZK3k04S"
      }
    },
    {
      "cell_type": "code",
      "source": [
        "df.orderBy(df['Annual Salary'].desc()).show(5)"
      ],
      "metadata": {
        "colab": {
          "base_uri": "https://localhost:8080/",
          "height": 0
        },
        "id": "0XC5DH77kQN3",
        "outputId": "d1f7347f-cb5f-4ead-d9a0-1187f856f6dc"
      },
      "execution_count": 59,
      "outputs": [
        {
          "output_type": "stream",
          "name": "stdout",
          "text": [
            "+-------------------+--------------------+-------+------+---+-------------+----------------+-----------+-------------------+-----------------+\n",
            "|               Name|     Customer e-mail|Country|Gender|Age|Annual Salary|Credit Card Debt|  Net Worth|Car Purchase Amount|New_Annual Salary|\n",
            "+-------------------+--------------------+-------+------+---+-------------+----------------+-----------+-------------------+-----------------+\n",
            "|      Gemma Hendrix|  lobortis@non.co.uk|    USA|     1| 46|     100000.0|     17452.92179|188032.0778|        58350.31809|         101000.0|\n",
            "|Flores, Caldwell U.|ut@Etiamvestibulu...|    USA|     0| 41|  92471.17612|     5404.397644|515717.7476|        59096.26978|      93471.17612|\n",
            "|            Vaughan|Aliquam@aaliquet.com|    USA|     0| 51|  92455.72807|     9877.169366|285326.3544|        61404.22578|      93455.72807|\n",
            "| Daugherty, Veda M.|venenatis.vel.fau...|    USA|     1| 48|  91083.73918|     13148.85597|387538.2487|        60960.83428|      92083.73918|\n",
            "|      Glenna Graham|sodales@maurisSus...|    USA|     0| 46|  90556.62686|      13872.5667|479586.9387|        61593.52058|      91556.62686|\n",
            "+-------------------+--------------------+-------+------+---+-------------+----------------+-----------+-------------------+-----------------+\n",
            "only showing top 5 rows\n",
            "\n"
          ]
        }
      ]
    },
    {
      "cell_type": "markdown",
      "source": [
        "Handling Missing Values"
      ],
      "metadata": {
        "id": "VVUlEBmqk_Xu"
      }
    },
    {
      "cell_type": "code",
      "source": [
        "df.show(5)"
      ],
      "metadata": {
        "colab": {
          "base_uri": "https://localhost:8080/",
          "height": 0
        },
        "id": "riqDvvqJlDXO",
        "outputId": "d6df6014-e9b3-4b1a-fc3d-69b9a747ec85"
      },
      "execution_count": 61,
      "outputs": [
        {
          "output_type": "stream",
          "name": "stdout",
          "text": [
            "+---------------+--------------------+-------+------+---+-------------+----------------+-----------+-------------------+-----------------+\n",
            "|           Name|     Customer e-mail|Country|Gender|Age|Annual Salary|Credit Card Debt|  Net Worth|Car Purchase Amount|New_Annual Salary|\n",
            "+---------------+--------------------+-------+------+---+-------------+----------------+-----------+-------------------+-----------------+\n",
            "|  Martina Avila|cubilia.Curae.Pha...|    USA|     0| 42|  62812.09301|     11609.38091|238961.2505|        35321.45877|      63812.09301|\n",
            "|  Harlan Barnes| eu.dolor@diam.co.uk|    USA|     0| 41|  66646.89292|     9572.957136|530973.9078|        45115.52566|      67646.89292|\n",
            "|Naomi Rodriquez|vulputate.mauris....|    USA|     1| 43|  53798.55112|     11160.35506|638467.1773|        42925.70921|      54798.55112|\n",
            "|Jade Cunningham|malesuada@digniss...|    USA|     1| 58|  79370.03798|     14426.16485|548599.0524|        67422.36313|      80370.03798|\n",
            "|   Cedric Leach|felis.ullamcorper...|    USA|     1| 57|   59729.1513|     5358.712177|560304.0671|        55915.46248|       60729.1513|\n",
            "+---------------+--------------------+-------+------+---+-------------+----------------+-----------+-------------------+-----------------+\n",
            "only showing top 5 rows\n",
            "\n"
          ]
        }
      ]
    },
    {
      "cell_type": "code",
      "source": [
        "from pyspark.sql.functions import mean"
      ],
      "metadata": {
        "id": "rdWWzNOflcTk"
      },
      "execution_count": 62,
      "outputs": []
    },
    {
      "cell_type": "code",
      "source": [
        "mean1=df.select(mean(df['Net Worth'])).collect()"
      ],
      "metadata": {
        "id": "xLtelRZLlkM2"
      },
      "execution_count": 65,
      "outputs": []
    },
    {
      "cell_type": "code",
      "source": [
        "mean1[0][0]"
      ],
      "metadata": {
        "colab": {
          "base_uri": "https://localhost:8080/",
          "height": 0
        },
        "id": "15OHovkKluOt",
        "outputId": "18082af5-0cfe-4133-ae22-57c68b0f9787"
      },
      "execution_count": 67,
      "outputs": [
        {
          "output_type": "execute_result",
          "data": {
            "text/plain": [
              "431475.71362506005"
            ]
          },
          "metadata": {},
          "execution_count": 67
        }
      ]
    },
    {
      "cell_type": "code",
      "source": [
        "df.fillna(mean1[0][0]).show()"
      ],
      "metadata": {
        "colab": {
          "base_uri": "https://localhost:8080/",
          "height": 0
        },
        "id": "YzS0NZTomGUj",
        "outputId": "a0efa0eb-cc8f-47d8-b360-ba7699f162d1"
      },
      "execution_count": 68,
      "outputs": [
        {
          "output_type": "stream",
          "name": "stdout",
          "text": [
            "+---------------+--------------------+-------+------+---+-------------+----------------+-----------+-------------------+-----------------+\n",
            "|           Name|     Customer e-mail|Country|Gender|Age|Annual Salary|Credit Card Debt|  Net Worth|Car Purchase Amount|New_Annual Salary|\n",
            "+---------------+--------------------+-------+------+---+-------------+----------------+-----------+-------------------+-----------------+\n",
            "|  Martina Avila|cubilia.Curae.Pha...|    USA|     0| 42|  62812.09301|     11609.38091|238961.2505|        35321.45877|      63812.09301|\n",
            "|  Harlan Barnes| eu.dolor@diam.co.uk|    USA|     0| 41|  66646.89292|     9572.957136|530973.9078|        45115.52566|      67646.89292|\n",
            "|Naomi Rodriquez|vulputate.mauris....|    USA|     1| 43|  53798.55112|     11160.35506|638467.1773|        42925.70921|      54798.55112|\n",
            "|Jade Cunningham|malesuada@digniss...|    USA|     1| 58|  79370.03798|     14426.16485|548599.0524|        67422.36313|      80370.03798|\n",
            "|   Cedric Leach|felis.ullamcorper...|    USA|     1| 57|   59729.1513|     5358.712177|560304.0671|        55915.46248|       60729.1513|\n",
            "|   Carla Hester|  mi@Aliquamerat.edu|    USA|     1| 57|  68499.85162|     14179.47244|428485.3604|        56611.99784|      69499.85162|\n",
            "| Griffin Rivera|   vehicula@at.co.uk|    USA|     1| 47|    39814.522|     5958.460188|326373.1812|        28925.70549|        40814.522|\n",
            "|     Orli Casey|nunc.est.mollis@S...|    USA|     1| 50|  51752.23445|     10985.69656|629312.4041|        47434.98265|      52752.23445|\n",
            "|   Marny Obrien|Phasellus@sedseme...|    USA|     0| 47|   58139.2591|     3440.823799|630059.0274|         48013.6141|       59139.2591|\n",
            "|  Rhonda Chavez|     nec@nuncest.com|    USA|     1| 43|  53457.10132|     12884.07868|476643.3544|        38189.50601|      54457.10132|\n",
            "|    Jerome Rowe|ipsum.cursus@dui.org|    USA|     1| 50|  73348.70745|     8270.707359|612738.6171|        59045.51309|      74348.70745|\n",
            "|   Akeem Gibson|turpis.egestas.Fu...|    USA|     1| 53|  55421.65733|     10014.96929|293862.5123|        42288.81046|      56421.65733|\n",
            "|     Quin Smith|     nulla@ipsum.edu|    USA|     0| 44|   37336.3383|     10218.32092|430907.1673|         28700.0334|       38336.3383|\n",
            "|     Tatum Moon|Cras.sed.leo@Sedd...|    USA|     0| 48|  68304.47298|     9466.995128|420322.0702|        49258.87571|      69304.47298|\n",
            "|  Sharon Sharpe|eget.metus@aaliqu...|    USA|     0| 55|  72776.00382|     10597.63814|146344.8965|        49510.03356|      73776.00382|\n",
            "|Thomas Williams|aliquet.molestie@...|    USA|     1| 53|  64662.30061|     11326.03434|481433.4324|        53017.26723|      65662.30061|\n",
            "|  Blaine Bender|ultrices.posuere....|    USA|     0| 45|  63259.87837|     11495.54999|370356.2223|        41814.72067|      64259.87837|\n",
            "|Stephen Lindsey|erat.eget.ipsum@t...|    USA|     1| 48|  52682.06401|     12514.52029|549443.5886|        43901.71244|      53682.06401|\n",
            "|    Sloane Mann|  at.augue@augue.net|    USA|     1| 52|  54503.14423|     7377.820914|431098.9998|        44633.99241|      55503.14423|\n",
            "|    Athena Wolf|volutpat.Nulla.fa...|    USA|     0| 59|  55368.23716|     13272.94647|566022.1306|        54827.52403|      56368.23716|\n",
            "+---------------+--------------------+-------+------+---+-------------+----------------+-----------+-------------------+-----------------+\n",
            "only showing top 20 rows\n",
            "\n"
          ]
        }
      ]
    }
  ]
}